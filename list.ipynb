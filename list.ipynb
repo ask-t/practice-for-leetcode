{
 "cells": [
  {
   "cell_type": "code",
   "execution_count": 98,
   "metadata": {},
   "outputs": [
    {
     "data": {
      "text/html": [
       "<div>\n",
       "<style scoped>\n",
       "    .dataframe tbody tr th:only-of-type {\n",
       "        vertical-align: middle;\n",
       "    }\n",
       "\n",
       "    .dataframe tbody tr th {\n",
       "        vertical-align: top;\n",
       "    }\n",
       "\n",
       "    .dataframe thead th {\n",
       "        text-align: right;\n",
       "    }\n",
       "</style>\n",
       "<table border=\"1\" class=\"dataframe\">\n",
       "  <thead>\n",
       "    <tr style=\"text-align: right;\">\n",
       "      <th></th>\n",
       "      <th>Category</th>\n",
       "      <th>function</th>\n",
       "      <th>In</th>\n",
       "      <th>Out</th>\n",
       "    </tr>\n",
       "  </thead>\n",
       "  <tbody>\n",
       "    <tr>\n",
       "      <th>0</th>\n",
       "      <td>Slice</td>\n",
       "      <td>mylist[0:5]</td>\n",
       "      <td>mylist = [0, 1, 2, 3, 4, 5, 6, 7, 8, 9, 10]</td>\n",
       "      <td>[0, 1, 2, 3, 4]</td>\n",
       "    </tr>\n",
       "    <tr>\n",
       "      <th>1</th>\n",
       "      <td>Slice</td>\n",
       "      <td>mylist[:]</td>\n",
       "      <td>mylist = [0, 1, 2, 3, 4, 5, 6, 7, 8, 9, 10]</td>\n",
       "      <td>[0, 1, 2, 3, 4, 5, 6, 7, 8, 9, 10]</td>\n",
       "    </tr>\n",
       "    <tr>\n",
       "      <th>2</th>\n",
       "      <td>Slice</td>\n",
       "      <td>mylist[:5]</td>\n",
       "      <td>mylist = [0, 1, 2, 3, 4, 5, 6, 7, 8, 9, 10]</td>\n",
       "      <td>[5, 6, 7, 8, 9, 10]</td>\n",
       "    </tr>\n",
       "    <tr>\n",
       "      <th>3</th>\n",
       "      <td>Slice</td>\n",
       "      <td>mylist[:5]</td>\n",
       "      <td>mylist = [0, 1, 2, 3, 4, 5, 6, 7, 8, 9, 10]</td>\n",
       "      <td>[0, 1, 2, 3, 4]</td>\n",
       "    </tr>\n",
       "    <tr>\n",
       "      <th>4</th>\n",
       "      <td>Slice</td>\n",
       "      <td>mylist[0:10:2]</td>\n",
       "      <td>mylist = [0, 1, 2, 3, 4, 5, 6, 7, 8, 9, 10]</td>\n",
       "      <td>[0, 2, 4, 6, 8]</td>\n",
       "    </tr>\n",
       "    <tr>\n",
       "      <th>5</th>\n",
       "      <td>Slice</td>\n",
       "      <td>mylist[::2]</td>\n",
       "      <td>mylist = [0, 1, 2, 3, 4, 5, 6, 7, 8, 9, 10]</td>\n",
       "      <td>[0, 2, 4, 6, 8, 10]</td>\n",
       "    </tr>\n",
       "    <tr>\n",
       "      <th>6</th>\n",
       "      <td>Slice</td>\n",
       "      <td>mylist[-4:]</td>\n",
       "      <td>mylist = [0, 1, 2, 3, 4, 5, 6, 7, 8, 9, 10]</td>\n",
       "      <td>[7, 8, 9, 10]</td>\n",
       "    </tr>\n",
       "    <tr>\n",
       "      <th>7</th>\n",
       "      <td>Slice</td>\n",
       "      <td>mylist[-1:-9:-1]</td>\n",
       "      <td>mylist = [0, 1, 2, 3, 4, 5, 6, 7, 8, 9, 10]</td>\n",
       "      <td>[10, 9, 8, 7, 6, 5, 3, 2]</td>\n",
       "    </tr>\n",
       "    <tr>\n",
       "      <th>8</th>\n",
       "      <td>convert</td>\n",
       "      <td>list()</td>\n",
       "      <td>list({})</td>\n",
       "      <td>[]</td>\n",
       "    </tr>\n",
       "    <tr>\n",
       "      <th>9</th>\n",
       "      <td>Membership</td>\n",
       "      <td>in</td>\n",
       "      <td>a = [\"apple\",\"orange\",\"lemon\"]\\nprint(\"lemon\" ...</td>\n",
       "      <td>True</td>\n",
       "    </tr>\n",
       "    <tr>\n",
       "      <th>10</th>\n",
       "      <td>update</td>\n",
       "      <td>variable = list[1]</td>\n",
       "      <td>a = [\"apple\",\"orange\",\"lemon\"]\\na[1] = \"banana...</td>\n",
       "      <td>['apple', 'banana', 'lemon']</td>\n",
       "    </tr>\n",
       "    <tr>\n",
       "      <th>11</th>\n",
       "      <td>add another list to the list</td>\n",
       "      <td>list.extend(list2)</td>\n",
       "      <td>a= [1,2,3,4]\\nb= [5,6,7,8,9]\\na.extend(b)</td>\n",
       "      <td>[1, 2, 3, 4, 5, 6, 7, 8, 9]</td>\n",
       "    </tr>\n",
       "    <tr>\n",
       "      <th>12</th>\n",
       "      <td>add another list to the list</td>\n",
       "      <td>list1 + list2</td>\n",
       "      <td>list1 = [\"a\", \"b\", \"c\"]\\nlist2 = [1, 2, 3]\\n\\n...</td>\n",
       "      <td>['a', 'b', 'c', 1, 2, 3]</td>\n",
       "    </tr>\n",
       "    <tr>\n",
       "      <th>13</th>\n",
       "      <td>add a value</td>\n",
       "      <td>list.append(any data value)</td>\n",
       "      <td>list1 = [\"a\", \"b\" , \"c\"]\\nlist2 = [1, 2, 3]\\n\\...</td>\n",
       "      <td>['a', 'b', 'c', 1, 2, 3]</td>\n",
       "    </tr>\n",
       "    <tr>\n",
       "      <th>14</th>\n",
       "      <td>remove a value with name</td>\n",
       "      <td>list.remove(any data value)</td>\n",
       "      <td>thislist = [\"apple\", \"banana\", \"cherry\"]\\nthis...</td>\n",
       "      <td>['apple', 'cherry']</td>\n",
       "    </tr>\n",
       "    <tr>\n",
       "      <th>15</th>\n",
       "      <td>remove a value with index number</td>\n",
       "      <td>list.pop(index)</td>\n",
       "      <td>thislist = [\"apple\", \"banana\", \"cherry\"]\\nprin...</td>\n",
       "      <td>banana\\n['apple', 'cherry']</td>\n",
       "    </tr>\n",
       "    <tr>\n",
       "      <th>16</th>\n",
       "      <td>remove value</td>\n",
       "      <td>del list</td>\n",
       "      <td>thislist = [\"apple\", \"banana\", \"cherry\"]\\ndel ...</td>\n",
       "      <td>['banana', 'cherry']</td>\n",
       "    </tr>\n",
       "    <tr>\n",
       "      <th>17</th>\n",
       "      <td>remove all</td>\n",
       "      <td>list.clear()</td>\n",
       "      <td>a = [1,2,3,4]\\na.clear()\\nprint(a)</td>\n",
       "      <td>[]</td>\n",
       "    </tr>\n",
       "    <tr>\n",
       "      <th>18</th>\n",
       "      <td>show values</td>\n",
       "      <td>for loop</td>\n",
       "      <td>thislist = [\"apple\", \"banana\", \"cherry\"]\\nfor ...</td>\n",
       "      <td>apple\\nbanana\\ncherry</td>\n",
       "    </tr>\n",
       "    <tr>\n",
       "      <th>19</th>\n",
       "      <td>show values</td>\n",
       "      <td>range()</td>\n",
       "      <td>thislist = [\"apple\", \"banana\", \"cherry\"]\\nfor ...</td>\n",
       "      <td>apple\\nbanana\\ncherry</td>\n",
       "    </tr>\n",
       "    <tr>\n",
       "      <th>20</th>\n",
       "      <td>show values</td>\n",
       "      <td>while loop</td>\n",
       "      <td>thislist = [\"apple\", \"banana\", \"cherry\"]\\ni = ...</td>\n",
       "      <td>apple\\nbanana\\ncherry</td>\n",
       "    </tr>\n",
       "    <tr>\n",
       "      <th>21</th>\n",
       "      <td>if statement</td>\n",
       "      <td>if</td>\n",
       "      <td>emailList = [\"lsb@go.byuh.edu\", \"hgb@gmail.com...</td>\n",
       "      <td>['lsb@go.byuh.edu', 'cac@go.byuh.edu']</td>\n",
       "    </tr>\n",
       "    <tr>\n",
       "      <th>22</th>\n",
       "      <td>sort</td>\n",
       "      <td>sort(reverse)</td>\n",
       "      <td>thislist = [\"orange\", \"mango\", \"kiwi\", \"pineap...</td>\n",
       "      <td>['banana', 'kiwi', 'mango', 'orange', 'pineapp...</td>\n",
       "    </tr>\n",
       "    <tr>\n",
       "      <th>23</th>\n",
       "      <td>sort with another way</td>\n",
       "      <td>sort(key)</td>\n",
       "      <td>thislist = [100, 50, 65, 82, 23]\\nthislist.sor...</td>\n",
       "      <td>[50, 65, 23, 82, 100]</td>\n",
       "    </tr>\n",
       "    <tr>\n",
       "      <th>24</th>\n",
       "      <td>copy list</td>\n",
       "      <td>list.copy()</td>\n",
       "      <td>thislist = [\"apple\", \"banana\", \"cherry\"]\\nmyli...</td>\n",
       "      <td>['apple', 'banana', 'cherry']</td>\n",
       "    </tr>\n",
       "  </tbody>\n",
       "</table>\n",
       "</div>"
      ],
      "text/plain": [
       "                            Category                     function  \\\n",
       "0                              Slice                  mylist[0:5]   \n",
       "1                              Slice                    mylist[:]   \n",
       "2                              Slice                   mylist[:5]   \n",
       "3                              Slice                   mylist[:5]   \n",
       "4                              Slice               mylist[0:10:2]   \n",
       "5                              Slice                  mylist[::2]   \n",
       "6                              Slice                  mylist[-4:]   \n",
       "7                              Slice             mylist[-1:-9:-1]   \n",
       "8                            convert                       list()   \n",
       "9                         Membership                           in   \n",
       "10                            update           variable = list[1]   \n",
       "11      add another list to the list           list.extend(list2)   \n",
       "12      add another list to the list                list1 + list2   \n",
       "13                       add a value  list.append(any data value)   \n",
       "14          remove a value with name  list.remove(any data value)   \n",
       "15  remove a value with index number              list.pop(index)   \n",
       "16                      remove value                    del list    \n",
       "17                        remove all                 list.clear()   \n",
       "18                      show values                      for loop   \n",
       "19                      show values                       range()   \n",
       "20                      show values                    while loop   \n",
       "21                      if statement                          if    \n",
       "22                             sort                 sort(reverse)   \n",
       "23             sort with another way                    sort(key)   \n",
       "24                         copy list                  list.copy()   \n",
       "\n",
       "                                                   In  \\\n",
       "0         mylist = [0, 1, 2, 3, 4, 5, 6, 7, 8, 9, 10]   \n",
       "1         mylist = [0, 1, 2, 3, 4, 5, 6, 7, 8, 9, 10]   \n",
       "2         mylist = [0, 1, 2, 3, 4, 5, 6, 7, 8, 9, 10]   \n",
       "3         mylist = [0, 1, 2, 3, 4, 5, 6, 7, 8, 9, 10]   \n",
       "4         mylist = [0, 1, 2, 3, 4, 5, 6, 7, 8, 9, 10]   \n",
       "5         mylist = [0, 1, 2, 3, 4, 5, 6, 7, 8, 9, 10]   \n",
       "6         mylist = [0, 1, 2, 3, 4, 5, 6, 7, 8, 9, 10]   \n",
       "7         mylist = [0, 1, 2, 3, 4, 5, 6, 7, 8, 9, 10]   \n",
       "8                                            list({})   \n",
       "9   a = [\"apple\",\"orange\",\"lemon\"]\\nprint(\"lemon\" ...   \n",
       "10  a = [\"apple\",\"orange\",\"lemon\"]\\na[1] = \"banana...   \n",
       "11          a= [1,2,3,4]\\nb= [5,6,7,8,9]\\na.extend(b)   \n",
       "12  list1 = [\"a\", \"b\", \"c\"]\\nlist2 = [1, 2, 3]\\n\\n...   \n",
       "13  list1 = [\"a\", \"b\" , \"c\"]\\nlist2 = [1, 2, 3]\\n\\...   \n",
       "14  thislist = [\"apple\", \"banana\", \"cherry\"]\\nthis...   \n",
       "15  thislist = [\"apple\", \"banana\", \"cherry\"]\\nprin...   \n",
       "16  thislist = [\"apple\", \"banana\", \"cherry\"]\\ndel ...   \n",
       "17                 a = [1,2,3,4]\\na.clear()\\nprint(a)   \n",
       "18  thislist = [\"apple\", \"banana\", \"cherry\"]\\nfor ...   \n",
       "19  thislist = [\"apple\", \"banana\", \"cherry\"]\\nfor ...   \n",
       "20  thislist = [\"apple\", \"banana\", \"cherry\"]\\ni = ...   \n",
       "21  emailList = [\"lsb@go.byuh.edu\", \"hgb@gmail.com...   \n",
       "22  thislist = [\"orange\", \"mango\", \"kiwi\", \"pineap...   \n",
       "23  thislist = [100, 50, 65, 82, 23]\\nthislist.sor...   \n",
       "24  thislist = [\"apple\", \"banana\", \"cherry\"]\\nmyli...   \n",
       "\n",
       "                                                  Out  \n",
       "0                                     [0, 1, 2, 3, 4]  \n",
       "1                  [0, 1, 2, 3, 4, 5, 6, 7, 8, 9, 10]  \n",
       "2                                 [5, 6, 7, 8, 9, 10]  \n",
       "3                                     [0, 1, 2, 3, 4]  \n",
       "4                                     [0, 2, 4, 6, 8]  \n",
       "5                                 [0, 2, 4, 6, 8, 10]  \n",
       "6                                       [7, 8, 9, 10]  \n",
       "7                           [10, 9, 8, 7, 6, 5, 3, 2]  \n",
       "8                                                  []  \n",
       "9                                                True  \n",
       "10                       ['apple', 'banana', 'lemon']  \n",
       "11                        [1, 2, 3, 4, 5, 6, 7, 8, 9]  \n",
       "12                           ['a', 'b', 'c', 1, 2, 3]  \n",
       "13                           ['a', 'b', 'c', 1, 2, 3]  \n",
       "14                                ['apple', 'cherry']  \n",
       "15                        banana\\n['apple', 'cherry']  \n",
       "16                               ['banana', 'cherry']  \n",
       "17                                                 []  \n",
       "18                              apple\\nbanana\\ncherry  \n",
       "19                              apple\\nbanana\\ncherry  \n",
       "20                              apple\\nbanana\\ncherry  \n",
       "21             ['lsb@go.byuh.edu', 'cac@go.byuh.edu']  \n",
       "22  ['banana', 'kiwi', 'mango', 'orange', 'pineapp...  \n",
       "23                              [50, 65, 23, 82, 100]  \n",
       "24                      ['apple', 'banana', 'cherry']  "
      ]
     },
     "execution_count": 98,
     "metadata": {},
     "output_type": "execute_result"
    }
   ],
   "source": [
    "import pandas as pd\n",
    "df = pd.read_excel(\"table\\List for python.xlsx\",dtype=str)\n",
    "df"
   ]
  },
  {
   "cell_type": "markdown",
   "metadata": {},
   "source": [
    "## Make a list"
   ]
  },
  {
   "cell_type": "code",
   "execution_count": 67,
   "metadata": {},
   "outputs": [
    {
     "name": "stdout",
     "output_type": "stream",
     "text": [
      "[0, 1, 2, 3, 4, 5, 6, 7, 8, 9, 10]\n"
     ]
    }
   ],
   "source": [
    "mylist= [i for i in range(11)]\n",
    "print(mylist)"
   ]
  },
  {
   "cell_type": "markdown",
   "metadata": {},
   "source": [
    "## Slice"
   ]
  },
  {
   "cell_type": "code",
   "execution_count": 69,
   "metadata": {},
   "outputs": [
    {
     "name": "stdout",
     "output_type": "stream",
     "text": [
      "[0, 1, 2, 3, 5] [0, 1, 2, 3, 5, 6, 7, 8, 9, 10] [6, 7, 8, 9, 10] [0, 1, 2, 3, 5] [0, 2, 5, 7, 9] [0, 2, 5, 7, 9]\n"
     ]
    }
   ],
   "source": [
    "a = mylist[0:5]\n",
    "b = mylist[:]\n",
    "c = mylist [5:]\n",
    "d = mylist[:5]\n",
    "e = mylist[0:10:2]\n",
    "f = mylist[::2]\n",
    "print(a,b,c,d,e,f)"
   ]
  },
  {
   "cell_type": "code",
   "execution_count": 70,
   "metadata": {},
   "outputs": [
    {
     "name": "stdout",
     "output_type": "stream",
     "text": [
      "[7, 8, 9, 10]\n",
      "[10, 9, 8, 7, 6, 5, 3, 2]\n"
     ]
    }
   ],
   "source": [
    "a = mylist[-4:]\n",
    "b = mylist[-1:-9:-1]\n",
    "print(a)\n",
    "print(b)"
   ]
  },
  {
   "cell_type": "markdown",
   "metadata": {},
   "source": [
    "## Convert"
   ]
  },
  {
   "cell_type": "code",
   "execution_count": 71,
   "metadata": {},
   "outputs": [
    {
     "name": "stdout",
     "output_type": "stream",
     "text": [
      "['apple', 'lemon', 'orange']\n",
      "['apple', 'orange', 'lemon']\n"
     ]
    }
   ],
   "source": [
    "a= \"apple\"\n",
    "b=\"orange\"\n",
    "c=\"lemon\"\n",
    "\n",
    "d = list({a,b,c})\n",
    "e = list((a,b,c))\n",
    "\n",
    "print(d)\n",
    "print(e)"
   ]
  },
  {
   "cell_type": "markdown",
   "metadata": {},
   "source": [
    "## Membership"
   ]
  },
  {
   "cell_type": "code",
   "execution_count": 72,
   "metadata": {},
   "outputs": [
    {
     "name": "stdout",
     "output_type": "stream",
     "text": [
      "True\n"
     ]
    }
   ],
   "source": [
    "a = [\"apple\",\"orange\",\"lemon\"]\n",
    "print(\"lemon\" in a)"
   ]
  },
  {
   "cell_type": "markdown",
   "metadata": {},
   "source": [
    "## Update"
   ]
  },
  {
   "cell_type": "code",
   "execution_count": 73,
   "metadata": {},
   "outputs": [
    {
     "name": "stdout",
     "output_type": "stream",
     "text": [
      "['apple', 'banana', 'lemon']\n"
     ]
    }
   ],
   "source": [
    "a = [\"apple\",\"orange\",\"lemon\"]\n",
    "a[1] = \"banana\"\n",
    "print(a)"
   ]
  },
  {
   "cell_type": "markdown",
   "metadata": {},
   "source": [
    "## Add values"
   ]
  },
  {
   "cell_type": "code",
   "execution_count": 74,
   "metadata": {},
   "outputs": [
    {
     "name": "stdout",
     "output_type": "stream",
     "text": [
      "[1, 2, 3, 4, 5, 6, 7, 8, 9]\n"
     ]
    }
   ],
   "source": [
    "a= [1,2,3,4]\n",
    "b= [5,6,7,8,9]\n",
    "a.extend(b)\n",
    "\n",
    "print(a)"
   ]
  },
  {
   "cell_type": "code",
   "execution_count": 75,
   "metadata": {},
   "outputs": [
    {
     "name": "stdout",
     "output_type": "stream",
     "text": [
      "[1, 2, 3, 4, 5, 6, 7, 8, 9, 10, 11, 12, 13, 'a', 'b']\n"
     ]
    }
   ],
   "source": [
    "a= [1,2,3,4,5]\n",
    "b = (6,7,8,9)\n",
    "c = {10,11,12,13}\n",
    "d={'a':16, 'b':114}\n",
    "\n",
    "a.extend(b)\n",
    "a.extend(c)\n",
    "a.extend(d)\n",
    "print(a)"
   ]
  },
  {
   "cell_type": "code",
   "execution_count": null,
   "metadata": {},
   "outputs": [
    {
     "name": "stdout",
     "output_type": "stream",
     "text": [
      "['a', 'b', 'c', 1, 2, 3]\n"
     ]
    }
   ],
   "source": [
    "list1 = [\"a\", \"b\", \"c\"]\n",
    "list2 = [1, 2, 3]\n",
    "list3 = []\n",
    "list3.extend(list1)\n",
    "list3.extend(list2)\n",
    "print(list3)"
   ]
  },
  {
   "cell_type": "code",
   "execution_count": 94,
   "metadata": {},
   "outputs": [
    {
     "name": "stdout",
     "output_type": "stream",
     "text": [
      "['a', 'b', 'c', 1, 2, 3]\n"
     ]
    }
   ],
   "source": [
    "list1 = [\"a\", \"b\", \"c\"]\n",
    "list2 = [1, 2, 3]\n",
    "\n",
    "list3 = list1 + list2\n",
    "print(list3)"
   ]
  },
  {
   "cell_type": "code",
   "execution_count": 96,
   "metadata": {},
   "outputs": [
    {
     "name": "stdout",
     "output_type": "stream",
     "text": [
      "['a', 'b', 'c', 1, 2, 3]\n"
     ]
    }
   ],
   "source": [
    "list1 = [\"a\", \"b\" , \"c\"]\n",
    "list2 = [1, 2, 3]\n",
    "\n",
    "for x in list2:\n",
    "  list1.append(x)\n",
    "\n",
    "print(list1)"
   ]
  },
  {
   "cell_type": "markdown",
   "metadata": {},
   "source": [
    "## Remove values"
   ]
  },
  {
   "cell_type": "code",
   "execution_count": 76,
   "metadata": {},
   "outputs": [
    {
     "name": "stdout",
     "output_type": "stream",
     "text": [
      "['apple', 'cherry']\n"
     ]
    }
   ],
   "source": [
    "thislist = [\"apple\", \"banana\", \"cherry\"]\n",
    "thislist.remove(\"banana\")\n",
    "print(thislist)"
   ]
  },
  {
   "cell_type": "code",
   "execution_count": 77,
   "metadata": {},
   "outputs": [
    {
     "name": "stdout",
     "output_type": "stream",
     "text": [
      "banana\n",
      "['apple', 'cherry']\n"
     ]
    }
   ],
   "source": [
    "thislist = [\"apple\", \"banana\", \"cherry\"]\n",
    "print(thislist.pop(1))\n",
    "print(thislist)"
   ]
  },
  {
   "cell_type": "code",
   "execution_count": 78,
   "metadata": {},
   "outputs": [
    {
     "name": "stdout",
     "output_type": "stream",
     "text": [
      "['banana', 'cherry']\n"
     ]
    }
   ],
   "source": [
    "thislist = [\"apple\", \"banana\", \"cherry\"]\n",
    "del thislist[0]\n",
    "print(thislist)"
   ]
  },
  {
   "cell_type": "code",
   "execution_count": 79,
   "metadata": {},
   "outputs": [
    {
     "name": "stdout",
     "output_type": "stream",
     "text": [
      "[]\n"
     ]
    }
   ],
   "source": [
    "a = [1,2,3,4]\n",
    "a.clear()\n",
    "print(a)"
   ]
  },
  {
   "cell_type": "markdown",
   "metadata": {},
   "source": [
    "## Show values"
   ]
  },
  {
   "cell_type": "code",
   "execution_count": 80,
   "metadata": {},
   "outputs": [
    {
     "name": "stdout",
     "output_type": "stream",
     "text": [
      "apple\n",
      "banana\n",
      "cherry\n"
     ]
    }
   ],
   "source": [
    "thislist = [\"apple\", \"banana\", \"cherry\"]\n",
    "for x in thislist:\n",
    "    print(x)"
   ]
  },
  {
   "cell_type": "code",
   "execution_count": 81,
   "metadata": {},
   "outputs": [
    {
     "name": "stdout",
     "output_type": "stream",
     "text": [
      "apple\n",
      "banana\n",
      "cherry\n"
     ]
    }
   ],
   "source": [
    "thislist = [\"apple\", \"banana\", \"cherry\"]\n",
    "for i in range(len(thislist)):\n",
    "    print(thislist[i])"
   ]
  },
  {
   "cell_type": "code",
   "execution_count": 82,
   "metadata": {},
   "outputs": [
    {
     "name": "stdout",
     "output_type": "stream",
     "text": [
      "apple\n",
      "banana\n",
      "cherry\n"
     ]
    }
   ],
   "source": [
    "thislist = [\"apple\", \"banana\", \"cherry\"]\n",
    "i = 0\n",
    "while i < len(thislist):\n",
    "  print(thislist[i])\n",
    "  i = i + 1"
   ]
  },
  {
   "cell_type": "markdown",
   "metadata": {},
   "source": [
    "## Make unique lists"
   ]
  },
  {
   "cell_type": "code",
   "execution_count": 83,
   "metadata": {},
   "outputs": [
    {
     "name": "stdout",
     "output_type": "stream",
     "text": [
      "['lsb@go.byuh.edu', 'cac@go.byuh.edu']\n"
     ]
    }
   ],
   "source": [
    "emailList = [\"lsb@go.byuh.edu\", \"hgb@gmail.com\", \"cac@go.byuh.edu\"]\n",
    "a = \"@go.byuh.edu\"\n",
    "b = [i for i in emailList if a in i]\n",
    "print(b)"
   ]
  },
  {
   "cell_type": "code",
   "execution_count": 84,
   "metadata": {},
   "outputs": [
    {
     "name": "stdout",
     "output_type": "stream",
     "text": [
      "['APPLE', 'BANANA', 'CHERRY', 'KIWI', 'MANGO']\n"
     ]
    }
   ],
   "source": [
    "fruits = [\"apple\", \"banana\", \"cherry\", \"kiwi\", \"mango\"]\n",
    "\n",
    "newlist = [x.upper() for x in fruits]\n",
    "\n",
    "print(newlist)\n"
   ]
  },
  {
   "cell_type": "code",
   "execution_count": 85,
   "metadata": {},
   "outputs": [
    {
     "name": "stdout",
     "output_type": "stream",
     "text": [
      "['APPLE', 'BANANA', 'CHERRY', 'KIWI', 'MANGO']\n"
     ]
    }
   ],
   "source": [
    "fruits = [\"apple\", \"banana\", \"cherry\", \"kiwi\", \"mango\"]\n",
    "a = map(lambda x: x.upper(), fruits)\n",
    "print(list(a))"
   ]
  },
  {
   "cell_type": "code",
   "execution_count": 86,
   "metadata": {},
   "outputs": [
    {
     "name": "stdout",
     "output_type": "stream",
     "text": [
      "[1, 2, 3, 4]\n",
      "['1', '2', '3', '4']\n"
     ]
    }
   ],
   "source": [
    "num = ['1','2','3','4']\n",
    "a = map(int, num)\n",
    "a = list(a)\n",
    "print(a)\n",
    "b = list(map(str,a))\n",
    "print(b)"
   ]
  },
  {
   "cell_type": "code",
   "execution_count": 87,
   "metadata": {},
   "outputs": [
    {
     "name": "stdout",
     "output_type": "stream",
     "text": [
      "['1', '2', '3', '4']\n"
     ]
    }
   ],
   "source": [
    "num = ['1','2','3','4']\n",
    "a = map(lambda i:i.upper(),num)\n",
    "print(list(a))"
   ]
  },
  {
   "cell_type": "markdown",
   "metadata": {},
   "source": [
    "## Sort values"
   ]
  },
  {
   "cell_type": "code",
   "execution_count": 88,
   "metadata": {},
   "outputs": [
    {
     "name": "stdout",
     "output_type": "stream",
     "text": [
      "['banana', 'kiwi', 'mango', 'orange', 'pineapple']\n",
      "['pineapple', 'orange', 'mango', 'kiwi', 'banana']\n"
     ]
    }
   ],
   "source": [
    "thislist = [\"orange\", \"mango\", \"kiwi\", \"pineapple\", \"banana\"]\n",
    "thislist.sort()\n",
    "print(thislist)\n",
    "thislist.sort(reverse=True)\n",
    "print(thislist)"
   ]
  },
  {
   "cell_type": "code",
   "execution_count": 89,
   "metadata": {},
   "outputs": [
    {
     "name": "stdout",
     "output_type": "stream",
     "text": [
      "[23, 50, 65, 82, 100]\n",
      "[100, 82, 65, 50, 23]\n"
     ]
    }
   ],
   "source": [
    "thislist = [100, 50, 65, 82, 23]\n",
    "thislist.sort()\n",
    "print(thislist)\n",
    "thislist.sort(reverse=True)\n",
    "print(thislist)"
   ]
  },
  {
   "cell_type": "code",
   "execution_count": 90,
   "metadata": {},
   "outputs": [
    {
     "name": "stdout",
     "output_type": "stream",
     "text": [
      "[50, 65, 23, 82, 100]\n"
     ]
    }
   ],
   "source": [
    "def myfunc(n):\n",
    "  return abs(n - 50) #Sort the list based on how close the number is to 50:\n",
    "\n",
    "thislist = [100, 50, 65, 82, 23]\n",
    "thislist.sort(key = myfunc) \n",
    "print(thislist)"
   ]
  },
  {
   "cell_type": "code",
   "execution_count": 91,
   "metadata": {},
   "outputs": [
    {
     "name": "stdout",
     "output_type": "stream",
     "text": [
      "[50, 65, 23, 82, 100]\n"
     ]
    }
   ],
   "source": [
    "thislist = [100, 50, 65, 82, 23]\n",
    "thislist.sort(key= lambda x: abs(x-50))\n",
    "print(thislist)"
   ]
  },
  {
   "cell_type": "markdown",
   "metadata": {},
   "source": [
    "## Copy Values"
   ]
  },
  {
   "cell_type": "code",
   "execution_count": 101,
   "metadata": {},
   "outputs": [
    {
     "name": "stdout",
     "output_type": "stream",
     "text": [
      "['apple', 'banana', 'cherry']\n"
     ]
    }
   ],
   "source": [
    "thislist = [\"apple\", \"banana\", \"cherry\"]\n",
    "mylist = thislist.copy()\n",
    "print(mylist)"
   ]
  },
  {
   "cell_type": "code",
   "execution_count": 93,
   "metadata": {},
   "outputs": [
    {
     "name": "stdout",
     "output_type": "stream",
     "text": [
      "['apple', 'banana', 'cherry']\n"
     ]
    }
   ],
   "source": [
    "thislist = [\"apple\", \"banana\", \"cherry\"]\n",
    "mylist = list(thislist)\n",
    "print(mylist)"
   ]
  },
  {
   "cell_type": "code",
   "execution_count": 104,
   "metadata": {},
   "outputs": [
    {
     "name": "stdout",
     "output_type": "stream",
     "text": [
      "[1, 2, 3, 4]\n",
      "[1, 2, 3, 4]\n",
      "[1, 2, 3, 4, 6, 7]\n",
      "[1, 2, 3, 4]\n"
     ]
    }
   ],
   "source": [
    "a = [1,2,3,4]\n",
    "b = a.copy()\n",
    "print(a)\n",
    "print(b)\n",
    "a.extend((6,7))\n",
    "print(a)\n",
    "print(b)"
   ]
  }
 ],
 "metadata": {
  "kernelspec": {
   "display_name": "Python 3",
   "language": "python",
   "name": "python3"
  },
  "language_info": {
   "codemirror_mode": {
    "name": "ipython",
    "version": 3
   },
   "file_extension": ".py",
   "mimetype": "text/x-python",
   "name": "python",
   "nbconvert_exporter": "python",
   "pygments_lexer": "ipython3",
   "version": "3.10.6"
  },
  "orig_nbformat": 4
 },
 "nbformat": 4,
 "nbformat_minor": 2
}
