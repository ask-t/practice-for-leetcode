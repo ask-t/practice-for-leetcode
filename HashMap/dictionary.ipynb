{
 "cells": [
  {
   "cell_type": "markdown",
   "metadata": {},
   "source": [
    "## Python Dictionaries\n",
    "\n",
    "\n",
    "Dictionaries are used to store data values in key:value pairs.\n",
    "\n",
    "A dictionary is a collection which is ordered*, changeable and do not allow duplicates.\n",
    "\n",
    "see: [w3schools](https://www.w3schools.com/python/python_dictionaries.asp)"
   ]
  },
  {
   "cell_type": "code",
   "execution_count": 14,
   "metadata": {},
   "outputs": [
    {
     "data": {
      "text/html": [
       "<div>\n",
       "<style scoped>\n",
       "    .dataframe tbody tr th:only-of-type {\n",
       "        vertical-align: middle;\n",
       "    }\n",
       "\n",
       "    .dataframe tbody tr th {\n",
       "        vertical-align: top;\n",
       "    }\n",
       "\n",
       "    .dataframe thead th {\n",
       "        text-align: right;\n",
       "    }\n",
       "</style>\n",
       "<table border=\"1\" class=\"dataframe\">\n",
       "  <thead>\n",
       "    <tr style=\"text-align: right;\">\n",
       "      <th></th>\n",
       "      <th>Category</th>\n",
       "      <th>function</th>\n",
       "      <th>In</th>\n",
       "      <th>Out</th>\n",
       "    </tr>\n",
       "  </thead>\n",
       "  <tbody>\n",
       "    <tr>\n",
       "      <th>0</th>\n",
       "      <td>show value</td>\n",
       "      <td>dct.get(key)</td>\n",
       "      <td>dct={\\n    \"brand\":\"ford\",\\n    \"model\":\"Musta...</td>\n",
       "      <td>Mustang</td>\n",
       "    </tr>\n",
       "    <tr>\n",
       "      <th>1</th>\n",
       "      <td>show all values</td>\n",
       "      <td>dct.values()</td>\n",
       "      <td>x = dct.values()\\nprint(x)</td>\n",
       "      <td>dict_values(['ford', 'Mustang', 1964])</td>\n",
       "    </tr>\n",
       "    <tr>\n",
       "      <th>2</th>\n",
       "      <td>show items</td>\n",
       "      <td>dct.items()</td>\n",
       "      <td>x = dct.items()\\nprint(x)</td>\n",
       "      <td>dict_items([('brand', 'ford'), ('model', 'Must...</td>\n",
       "    </tr>\n",
       "    <tr>\n",
       "      <th>3</th>\n",
       "      <td>show keys</td>\n",
       "      <td>dct.keys()</td>\n",
       "      <td>key = dct.keys()\\nprint(key)</td>\n",
       "      <td>dict_keys(['brand', 'model', 'year'])</td>\n",
       "    </tr>\n",
       "    <tr>\n",
       "      <th>4</th>\n",
       "      <td>add keys and values or change value</td>\n",
       "      <td>dct[key] = value</td>\n",
       "      <td>dct[\"color\"] = \"white\"\\nprint(dct.keys())\\npri...</td>\n",
       "      <td>dict_keys(['brand', 'model', 'year', 'color'])...</td>\n",
       "    </tr>\n",
       "    <tr>\n",
       "      <th>5</th>\n",
       "      <td>add keys and values or change value</td>\n",
       "      <td>dct.update({key:value})</td>\n",
       "      <td>x = dct.values()\\nprint(x)\\ndct.update({\"price...</td>\n",
       "      <td>dict_values(['ford', 'Mustang', 1964, 'white']...</td>\n",
       "    </tr>\n",
       "    <tr>\n",
       "      <th>6</th>\n",
       "      <td>add a dictionary into another dictionary</td>\n",
       "      <td>dct[key] = value</td>\n",
       "      <td>dct1 = {\"apple\":1, \"orange\":2, \"banana\":3}\\ndc...</td>\n",
       "      <td>{'apple': 1, 'orange': 2, 'banana': 3, 'dict':...</td>\n",
       "    </tr>\n",
       "    <tr>\n",
       "      <th>7</th>\n",
       "      <td>Membership</td>\n",
       "      <td>in</td>\n",
       "      <td>x = \"color\"\\nprint(x in dct)</td>\n",
       "      <td>True</td>\n",
       "    </tr>\n",
       "    <tr>\n",
       "      <th>8</th>\n",
       "      <td>Remove</td>\n",
       "      <td>dct.popitem()</td>\n",
       "      <td>dct= {\\n  \"brand\": \"Ford\",\\n  \"model\": \"Mustan...</td>\n",
       "      <td>{'brand': 'Ford', 'model': 'Mustang'}</td>\n",
       "    </tr>\n",
       "    <tr>\n",
       "      <th>9</th>\n",
       "      <td>delete</td>\n",
       "      <td>del dct</td>\n",
       "      <td>dct ={\\n  \"brand\": \"Ford\",\\n  \"model\": \"Mustan...</td>\n",
       "      <td>NameError: name 'dc' is not defined</td>\n",
       "    </tr>\n",
       "    <tr>\n",
       "      <th>10</th>\n",
       "      <td>remove all</td>\n",
       "      <td>dct.clear()</td>\n",
       "      <td>dct = {\\n  \"brand\": \"Ford\",\\n  \"model\": \"Musta...</td>\n",
       "      <td>{}</td>\n",
       "    </tr>\n",
       "    <tr>\n",
       "      <th>11</th>\n",
       "      <td>show each key</td>\n",
       "      <td>for i in dct:</td>\n",
       "      <td>dct =\\t{\\n  \"brand\": \"Ford\",\\n  \"model\": \"Must...</td>\n",
       "      <td>brand\\nmodel\\nyear</td>\n",
       "    </tr>\n",
       "    <tr>\n",
       "      <th>12</th>\n",
       "      <td>show each value</td>\n",
       "      <td>for i in dct.values():</td>\n",
       "      <td>for x in dct.values():\\n  print(x)</td>\n",
       "      <td>Ford\\nMustang\\n1964</td>\n",
       "    </tr>\n",
       "    <tr>\n",
       "      <th>13</th>\n",
       "      <td>show each item</td>\n",
       "      <td>for i in dct.keys():</td>\n",
       "      <td>for x in dct.keys():\\n  print(x)</td>\n",
       "      <td>brand\\nmodel\\nyear</td>\n",
       "    </tr>\n",
       "    <tr>\n",
       "      <th>14</th>\n",
       "      <td>show each item</td>\n",
       "      <td>for x, y in dct.items():\\n  print(x, y)</td>\n",
       "      <td>for x, y in dct.items():\\n  print(x, y)</td>\n",
       "      <td>brand Ford\\nmodel Mustang\\nyear 1964</td>\n",
       "    </tr>\n",
       "    <tr>\n",
       "      <th>15</th>\n",
       "      <td>Nested Dictionaries</td>\n",
       "      <td>child1 = {\\n  \"name\" : \"Emil\",\\n  \"year\" : 200...</td>\n",
       "      <td>child1 = {\\n  \"name\" : \"Emil\",\\n  \"year\" : 200...</td>\n",
       "      <td>{'child1': {'name': 'Emil', 'year': 2004}, 'ch...</td>\n",
       "    </tr>\n",
       "    <tr>\n",
       "      <th>16</th>\n",
       "      <td>show a spsecific value from Nested Dictionaries</td>\n",
       "      <td>dct[child][key]</td>\n",
       "      <td>print(myfamily[\"child2\"][\"name\"])</td>\n",
       "      <td>Tobias</td>\n",
       "    </tr>\n",
       "  </tbody>\n",
       "</table>\n",
       "</div>"
      ],
      "text/plain": [
       "                                           Category  \\\n",
       "0                                        show value   \n",
       "1                                   show all values   \n",
       "2                                        show items   \n",
       "3                                         show keys   \n",
       "4               add keys and values or change value   \n",
       "5               add keys and values or change value   \n",
       "6          add a dictionary into another dictionary   \n",
       "7                                        Membership   \n",
       "8                                            Remove   \n",
       "9                                            delete   \n",
       "10                                       remove all   \n",
       "11                                    show each key   \n",
       "12                                  show each value   \n",
       "13                                   show each item   \n",
       "14                                   show each item   \n",
       "15                              Nested Dictionaries   \n",
       "16  show a spsecific value from Nested Dictionaries   \n",
       "\n",
       "                                             function  \\\n",
       "0                                        dct.get(key)   \n",
       "1                                        dct.values()   \n",
       "2                                         dct.items()   \n",
       "3                                          dct.keys()   \n",
       "4                                    dct[key] = value   \n",
       "5                             dct.update({key:value})   \n",
       "6                                    dct[key] = value   \n",
       "7                                                  in   \n",
       "8                                       dct.popitem()   \n",
       "9                                             del dct   \n",
       "10                                        dct.clear()   \n",
       "11                                      for i in dct:   \n",
       "12                             for i in dct.values():   \n",
       "13                               for i in dct.keys():   \n",
       "14            for x, y in dct.items():\\n  print(x, y)   \n",
       "15  child1 = {\\n  \"name\" : \"Emil\",\\n  \"year\" : 200...   \n",
       "16                                    dct[child][key]   \n",
       "\n",
       "                                                   In  \\\n",
       "0   dct={\\n    \"brand\":\"ford\",\\n    \"model\":\"Musta...   \n",
       "1                          x = dct.values()\\nprint(x)   \n",
       "2                           x = dct.items()\\nprint(x)   \n",
       "3                        key = dct.keys()\\nprint(key)   \n",
       "4   dct[\"color\"] = \"white\"\\nprint(dct.keys())\\npri...   \n",
       "5   x = dct.values()\\nprint(x)\\ndct.update({\"price...   \n",
       "6   dct1 = {\"apple\":1, \"orange\":2, \"banana\":3}\\ndc...   \n",
       "7                        x = \"color\"\\nprint(x in dct)   \n",
       "8   dct= {\\n  \"brand\": \"Ford\",\\n  \"model\": \"Mustan...   \n",
       "9   dct ={\\n  \"brand\": \"Ford\",\\n  \"model\": \"Mustan...   \n",
       "10  dct = {\\n  \"brand\": \"Ford\",\\n  \"model\": \"Musta...   \n",
       "11  dct =\\t{\\n  \"brand\": \"Ford\",\\n  \"model\": \"Must...   \n",
       "12                 for x in dct.values():\\n  print(x)   \n",
       "13                   for x in dct.keys():\\n  print(x)   \n",
       "14            for x, y in dct.items():\\n  print(x, y)   \n",
       "15  child1 = {\\n  \"name\" : \"Emil\",\\n  \"year\" : 200...   \n",
       "16                  print(myfamily[\"child2\"][\"name\"])   \n",
       "\n",
       "                                                  Out  \n",
       "0                                             Mustang  \n",
       "1              dict_values(['ford', 'Mustang', 1964])  \n",
       "2   dict_items([('brand', 'ford'), ('model', 'Must...  \n",
       "3               dict_keys(['brand', 'model', 'year'])  \n",
       "4   dict_keys(['brand', 'model', 'year', 'color'])...  \n",
       "5   dict_values(['ford', 'Mustang', 1964, 'white']...  \n",
       "6   {'apple': 1, 'orange': 2, 'banana': 3, 'dict':...  \n",
       "7                                                True  \n",
       "8               {'brand': 'Ford', 'model': 'Mustang'}  \n",
       "9                 NameError: name 'dc' is not defined  \n",
       "10                                                 {}  \n",
       "11                                 brand\\nmodel\\nyear  \n",
       "12                                Ford\\nMustang\\n1964  \n",
       "13                                 brand\\nmodel\\nyear  \n",
       "14               brand Ford\\nmodel Mustang\\nyear 1964  \n",
       "15  {'child1': {'name': 'Emil', 'year': 2004}, 'ch...  \n",
       "16                                             Tobias  "
      ]
     },
     "execution_count": 14,
     "metadata": {},
     "output_type": "execute_result"
    }
   ],
   "source": [
    "import pandas as pd\n",
    "df = pd.read_excel(\"../table/dictionary.xlsx\",dtype=str)\n",
    "pd.set_option('display.max_rows', None)\n",
    "df"
   ]
  },
  {
   "cell_type": "markdown",
   "metadata": {},
   "source": [
    "### How to make dictionary"
   ]
  },
  {
   "cell_type": "code",
   "execution_count": 1,
   "metadata": {},
   "outputs": [
    {
     "name": "stdout",
     "output_type": "stream",
     "text": [
      "{'brand': 'ford', 'model': 'Mustang', 'year': 1964}\n",
      "Mustang\n",
      "3\n"
     ]
    }
   ],
   "source": [
    "dictionaryionary={\n",
    "    \"brand\":\"ford\",\n",
    "    \"model\":\"Mustang\",\n",
    "    \"year\":1964\n",
    "}\n",
    "print(dictionaryionary)\n",
    "print(dictionaryionary[\"model\"])\n",
    "print(len(dictionaryionary))"
   ]
  },
  {
   "cell_type": "markdown",
   "metadata": {},
   "source": [
    "### get value"
   ]
  },
  {
   "cell_type": "code",
   "execution_count": 1,
   "metadata": {},
   "outputs": [
    {
     "name": "stdout",
     "output_type": "stream",
     "text": [
      "Mustang\n"
     ]
    }
   ],
   "source": [
    "dictionary={\n",
    "    \"brand\":\"ford\",\n",
    "    \"model\":\"Mustang\",\n",
    "    \"year\":1964\n",
    "}\n",
    "x= dictionary.get(\"model\")\n",
    "print(x)"
   ]
  },
  {
   "cell_type": "code",
   "execution_count": 2,
   "metadata": {},
   "outputs": [
    {
     "name": "stdout",
     "output_type": "stream",
     "text": [
      "dict_values(['ford', 'Mustang', 1964])\n"
     ]
    }
   ],
   "source": [
    "x = dictionary.values()\n",
    "print(x)"
   ]
  },
  {
   "cell_type": "markdown",
   "metadata": {},
   "source": [
    "### show keys"
   ]
  },
  {
   "cell_type": "code",
   "execution_count": 4,
   "metadata": {},
   "outputs": [
    {
     "name": "stdout",
     "output_type": "stream",
     "text": [
      "dict_keys(['brand', 'model', 'year'])\n"
     ]
    }
   ],
   "source": [
    "key = dictionary.keys()\n",
    "print(key)"
   ]
  },
  {
   "cell_type": "markdown",
   "metadata": {},
   "source": [
    "### add a item"
   ]
  },
  {
   "cell_type": "code",
   "execution_count": 5,
   "metadata": {},
   "outputs": [
    {
     "name": "stdout",
     "output_type": "stream",
     "text": [
      "dict_keys(['brand', 'model', 'year', 'color'])\n",
      "white\n"
     ]
    }
   ],
   "source": [
    "dictionary[\"color\"] = \"white\"\n",
    "print(dictionary.keys())\n",
    "print(dictionary[\"color\"])"
   ]
  },
  {
   "cell_type": "code",
   "execution_count": 6,
   "metadata": {
    "pycharm": {
     "is_executing": true
    }
   },
   "outputs": [
    {
     "name": "stdout",
     "output_type": "stream",
     "text": [
      "dict_values(['ford', 'Mustang', 1964, 'white'])\n",
      "dict_values(['ford', 'Mustang', 1964, 'white', '$200K'])\n"
     ]
    }
   ],
   "source": [
    "x = dictionary.values()\n",
    "print(x)\n",
    "dictionary.update({\"price\":\"$200K\"})\n",
    "print(dictionary.values())"
   ]
  },
  {
   "cell_type": "markdown",
   "metadata": {},
   "source": [
    "### show keys and values"
   ]
  },
  {
   "cell_type": "code",
   "execution_count": 7,
   "metadata": {},
   "outputs": [
    {
     "name": "stdout",
     "output_type": "stream",
     "text": [
      "dict_items([('brand', 'ford'), ('model', 'Mustang'), ('year', 1964), ('color', 'white'), ('price', '$200K')])\n"
     ]
    }
   ],
   "source": [
    "x = dictionary.items()\n",
    "print(x)"
   ]
  },
  {
   "cell_type": "markdown",
   "metadata": {},
   "source": [
    "### check the key if there is in the dictionary"
   ]
  },
  {
   "cell_type": "code",
   "execution_count": 8,
   "metadata": {},
   "outputs": [
    {
     "name": "stdout",
     "output_type": "stream",
     "text": [
      "True\n"
     ]
    }
   ],
   "source": [
    "x = \"color\"\n",
    "print(x in dictionary)"
   ]
  },
  {
   "cell_type": "code",
   "execution_count": 9,
   "metadata": {},
   "outputs": [
    {
     "name": "stdout",
     "output_type": "stream",
     "text": [
      "ford\n"
     ]
    }
   ],
   "source": [
    "dictionary={\n",
    "    \"brand\":\"ford\",\n",
    "    \"model\":\"Mustang\",\n",
    "    \"year\":1964\n",
    "}\n",
    "\n",
    "l = [\"brand\",\"model\",\"year\"]\n",
    "print(dictionary[l[0]])"
   ]
  },
  {
   "cell_type": "markdown",
   "metadata": {},
   "source": [
    "### check weather there is the key that you want in the dictionary"
   ]
  },
  {
   "cell_type": "code",
   "execution_count": 10,
   "metadata": {},
   "outputs": [
    {
     "name": "stdout",
     "output_type": "stream",
     "text": [
      "True\n"
     ]
    }
   ],
   "source": [
    "dictionary ={\n",
    "    3:0\n",
    "}\n",
    "\n",
    "x = 3\n",
    "print(x in dictionary)\n"
   ]
  },
  {
   "cell_type": "markdown",
   "metadata": {},
   "source": [
    "### check empty or not"
   ]
  },
  {
   "cell_type": "code",
   "execution_count": 11,
   "metadata": {},
   "outputs": [
    {
     "name": "stdout",
     "output_type": "stream",
     "text": [
      "True\n"
     ]
    }
   ],
   "source": [
    "a =[]\n",
    "\n",
    "print(len(a) == 0)"
   ]
  },
  {
   "cell_type": "markdown",
   "metadata": {},
   "source": [
    "### add a dictionary into another dictionary"
   ]
  },
  {
   "cell_type": "code",
   "execution_count": 12,
   "metadata": {},
   "outputs": [
    {
     "name": "stdout",
     "output_type": "stream",
     "text": [
      "{'apple': 1, 'orange': 2, 'banana': 3, 'dictionary': {'peach': 4, 'cherry': 5, 'melon': 6}}\n"
     ]
    }
   ],
   "source": [
    "mydictionary1 = {\"apple\":1, \"orange\":2, \"banana\":3}\n",
    "mydictionary2 = {\"peach\":4, \"cherry\":5, \"melon\":6}\n",
    "mydictionary1[\"dictionary\"] = mydictionary2\n",
    "print(mydictionary1)"
   ]
  },
  {
   "cell_type": "markdown",
   "metadata": {},
   "source": [
    "## Remove items"
   ]
  },
  {
   "cell_type": "markdown",
   "metadata": {},
   "source": [
    "dictionary = {\n",
    "  \"brand\": \"Ford\",\n",
    "  \"model\": \"Mustang\",\n",
    "  \"year\": 1964\n",
    "}\n",
    "dictionary.pop(\"model\")\n",
    "print(dictionary)"
   ]
  },
  {
   "cell_type": "markdown",
   "metadata": {},
   "source": [
    "The popitem() method removes the **last** inserted item (in versions before 3.7, a random item is removed instead):"
   ]
  },
  {
   "cell_type": "code",
   "execution_count": 3,
   "metadata": {},
   "outputs": [
    {
     "name": "stdout",
     "output_type": "stream",
     "text": [
      "{'brand': 'Ford', 'model': 'Mustang'}\n"
     ]
    }
   ],
   "source": [
    "dictionary = {\n",
    "  \"brand\": \"Ford\",\n",
    "  \"model\": \"Mustang\",\n",
    "  \"year\": 1964\n",
    "}\n",
    "dictionary.popitem()\n",
    "print(dictionary)"
   ]
  },
  {
   "cell_type": "markdown",
   "metadata": {},
   "source": [
    "The del keyword will delete the dictionary completely:\n",
    "\n",
    "That is why valuable dictionary is not defined"
   ]
  },
  {
   "cell_type": "code",
   "execution_count": 14,
   "metadata": {},
   "outputs": [
    {
     "ename": "NameError",
     "evalue": "name 'thisdict' is not defined",
     "output_type": "error",
     "traceback": [
      "\u001b[1;31m---------------------------------------------------------------------------\u001b[0m",
      "\u001b[1;31mNameError\u001b[0m                                 Traceback (most recent call last)",
      "Cell \u001b[1;32mIn[14], line 7\u001b[0m\n\u001b[0;32m      1\u001b[0m thisdict \u001b[39m=\u001b[39m\t{\n\u001b[0;32m      2\u001b[0m   \u001b[39m\"\u001b[39m\u001b[39mbrand\u001b[39m\u001b[39m\"\u001b[39m: \u001b[39m\"\u001b[39m\u001b[39mFord\u001b[39m\u001b[39m\"\u001b[39m,\n\u001b[0;32m      3\u001b[0m   \u001b[39m\"\u001b[39m\u001b[39mmodel\u001b[39m\u001b[39m\"\u001b[39m: \u001b[39m\"\u001b[39m\u001b[39mMustang\u001b[39m\u001b[39m\"\u001b[39m,\n\u001b[0;32m      4\u001b[0m   \u001b[39m\"\u001b[39m\u001b[39myear\u001b[39m\u001b[39m\"\u001b[39m: \u001b[39m1964\u001b[39m\n\u001b[0;32m      5\u001b[0m }\n\u001b[0;32m      6\u001b[0m \u001b[39mdel\u001b[39;00m thisdict\n\u001b[1;32m----> 7\u001b[0m \u001b[39mprint\u001b[39m(thisdict)\n",
      "\u001b[1;31mNameError\u001b[0m: name 'thisdict' is not defined"
     ]
    }
   ],
   "source": [
    "thisdict =\t{\n",
    "  \"brand\": \"Ford\",\n",
    "  \"model\": \"Mustang\",\n",
    "  \"year\": 1964\n",
    "}\n",
    "del thisdict\n",
    "print(thisdict)"
   ]
  },
  {
   "cell_type": "code",
   "execution_count": null,
   "metadata": {},
   "outputs": [
    {
     "name": "stdout",
     "output_type": "stream",
     "text": [
      "{}\n"
     ]
    }
   ],
   "source": [
    "dictionary = {\n",
    "  \"brand\": \"Ford\",\n",
    "  \"model\": \"Mustang\",\n",
    "  \"year\": 1964\n",
    "}\n",
    "dictionary.clear()\n",
    "print(dictionary)"
   ]
  },
  {
   "cell_type": "code",
   "execution_count": null,
   "metadata": {},
   "outputs": [
    {
     "name": "stdout",
     "output_type": "stream",
     "text": [
      "brand\n",
      "model\n",
      "year\n"
     ]
    }
   ],
   "source": [
    "thisdict =\t{\n",
    "  \"brand\": \"Ford\",\n",
    "  \"model\": \"Mustang\",\n",
    "  \"year\": 1964\n",
    "}\n",
    "for x in thisdict:\n",
    "  print(x)"
   ]
  },
  {
   "cell_type": "code",
   "execution_count": null,
   "metadata": {},
   "outputs": [
    {
     "name": "stdout",
     "output_type": "stream",
     "text": [
      "Ford\n",
      "Mustang\n",
      "1964\n"
     ]
    }
   ],
   "source": [
    "for x in thisdict:\n",
    "  print(thisdict[x])"
   ]
  },
  {
   "cell_type": "code",
   "execution_count": null,
   "metadata": {},
   "outputs": [
    {
     "name": "stdout",
     "output_type": "stream",
     "text": [
      "Ford\n",
      "Mustang\n",
      "1964\n"
     ]
    }
   ],
   "source": [
    "for x in thisdict.values():\n",
    "  print(x)"
   ]
  },
  {
   "cell_type": "code",
   "execution_count": null,
   "metadata": {},
   "outputs": [
    {
     "name": "stdout",
     "output_type": "stream",
     "text": [
      "brand\n",
      "model\n",
      "year\n"
     ]
    }
   ],
   "source": [
    "for x in thisdict.keys():\n",
    "  print(x)"
   ]
  },
  {
   "cell_type": "code",
   "execution_count": null,
   "metadata": {},
   "outputs": [
    {
     "name": "stdout",
     "output_type": "stream",
     "text": [
      "brand Ford\n",
      "model Mustang\n",
      "year 1964\n"
     ]
    }
   ],
   "source": [
    "for x, y in thisdict.items():\n",
    "  print(x, y)"
   ]
  },
  {
   "cell_type": "code",
   "execution_count": 15,
   "metadata": {},
   "outputs": [
    {
     "name": "stdout",
     "output_type": "stream",
     "text": [
      "{'brand': 'Ford', 'model': 'Mustang', 'year': 1964}\n"
     ]
    }
   ],
   "source": [
    "thisdict = {\n",
    "  \"brand\": \"Ford\",\n",
    "  \"model\": \"Mustang\",\n",
    "  \"year\": 1964\n",
    "}\n",
    "mydict = dict(thisdict)\n",
    "print(mydict)"
   ]
  },
  {
   "cell_type": "markdown",
   "metadata": {},
   "source": [
    "## Nested Dictionaries"
   ]
  },
  {
   "cell_type": "code",
   "execution_count": null,
   "metadata": {},
   "outputs": [],
   "source": [
    "myfamily = {\n",
    "  \"child1\" : {\n",
    "    \"name\" : \"Emil\",\n",
    "    \"year\" : 2004\n",
    "  },\n",
    "  \"child2\" : {\n",
    "    \"name\" : \"Tobias\",\n",
    "    \"year\" : 2007\n",
    "  },\n",
    "  \"child3\" : {\n",
    "    \"name\" : \"Linus\",\n",
    "    \"year\" : 2011\n",
    "  }\n",
    "}\n",
    "\n",
    "print(myfamily)"
   ]
  },
  {
   "cell_type": "code",
   "execution_count": 16,
   "metadata": {},
   "outputs": [
    {
     "name": "stdout",
     "output_type": "stream",
     "text": [
      "{'child1': {'name': 'Emil', 'year': 2004}, 'child2': {'name': 'Tobias', 'year': 2007}, 'child3': {'name': 'Linus', 'year': 2011}}\n"
     ]
    }
   ],
   "source": [
    "child1 = {\n",
    "  \"name\" : \"Emil\",\n",
    "  \"year\" : 2004\n",
    "}\n",
    "child2 = {\n",
    "  \"name\" : \"Tobias\",\n",
    "  \"year\" : 2007\n",
    "}\n",
    "child3 = {\n",
    "  \"name\" : \"Linus\",\n",
    "  \"year\" : 2011\n",
    "}\n",
    "\n",
    "myfamily = {\n",
    "  \"child1\" : child1,\n",
    "  \"child2\" : child2,\n",
    "  \"child3\" : child3\n",
    "}\n",
    "\n",
    "print(myfamily)"
   ]
  },
  {
   "cell_type": "code",
   "execution_count": 17,
   "metadata": {},
   "outputs": [
    {
     "name": "stdout",
     "output_type": "stream",
     "text": [
      "Tobias\n"
     ]
    }
   ],
   "source": [
    "print(myfamily[\"child2\"][\"name\"])"
   ]
  }
 ],
 "metadata": {
  "kernelspec": {
   "display_name": "Python 3",
   "language": "python",
   "name": "python3"
  },
  "language_info": {
   "codemirror_mode": {
    "name": "ipython",
    "version": 3
   },
   "file_extension": ".py",
   "mimetype": "text/x-python",
   "name": "python",
   "nbconvert_exporter": "python",
   "pygments_lexer": "ipython3",
   "version": "3.10.6"
  },
  "orig_nbformat": 4
 },
 "nbformat": 4,
 "nbformat_minor": 2
}
