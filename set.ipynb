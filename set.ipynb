{
 "cells": [
  {
   "cell_type": "markdown",
   "metadata": {},
   "source": [
    "## Set function\n",
    "\n",
    "Sets are used to store multiple items in a single variable.\n",
    "\n",
    "Set is one of 4 built-in data types in Python used to store collections of data, the other 3 are List, Tuple, and Dictionary, all with different qualities and usage.\n",
    "\n",
    "A set is a collection which is unordered, unchangeable*, and unindexed.\n",
    "\n",
    "see: [w3schools](https://www.w3schools.com/python/python_sets.asp)"
   ]
  },
  {
   "cell_type": "code",
   "execution_count": 1,
   "metadata": {},
   "outputs": [
    {
     "data": {
      "text/html": [
       "<div>\n",
       "<style scoped>\n",
       "    .dataframe tbody tr th:only-of-type {\n",
       "        vertical-align: middle;\n",
       "    }\n",
       "\n",
       "    .dataframe tbody tr th {\n",
       "        vertical-align: top;\n",
       "    }\n",
       "\n",
       "    .dataframe thead th {\n",
       "        text-align: right;\n",
       "    }\n",
       "</style>\n",
       "<table border=\"1\" class=\"dataframe\">\n",
       "  <thead>\n",
       "    <tr style=\"text-align: right;\">\n",
       "      <th></th>\n",
       "      <th>Category</th>\n",
       "      <th>function</th>\n",
       "      <th>In</th>\n",
       "      <th>Out</th>\n",
       "    </tr>\n",
       "  </thead>\n",
       "  <tbody>\n",
       "    <tr>\n",
       "      <th>0</th>\n",
       "      <td>convert</td>\n",
       "      <td>set()</td>\n",
       "      <td>a = [1,2,3,3]\\nb = (1,2,3,4)\\nc = {\"car\":\"Toyo...</td>\n",
       "      <td>{1, 2, 3} {1, 2, 3, 4} {'model', 'car'}</td>\n",
       "    </tr>\n",
       "    <tr>\n",
       "      <th>1</th>\n",
       "      <td>Show</td>\n",
       "      <td>for loop</td>\n",
       "      <td>a = {1,2,3}\\nfor i in a:\\n    print(i)</td>\n",
       "      <td>1\\n2\\n3</td>\n",
       "    </tr>\n",
       "    <tr>\n",
       "      <th>2</th>\n",
       "      <td>Membership</td>\n",
       "      <td>in</td>\n",
       "      <td>a = {1,2,3}\\nprint(2 in a)</td>\n",
       "      <td>True</td>\n",
       "    </tr>\n",
       "    <tr>\n",
       "      <th>3</th>\n",
       "      <td>Add Sets</td>\n",
       "      <td>set.add(value)</td>\n",
       "      <td>a ={1,2,3}\\na.add(4)\\nprint(a)</td>\n",
       "      <td>{1, 2, 3, 4}</td>\n",
       "    </tr>\n",
       "    <tr>\n",
       "      <th>4</th>\n",
       "      <td>Add Sets</td>\n",
       "      <td>set.update(set2)</td>\n",
       "      <td>a ={1,2,3}\\nb={4,5,6}\\na.update(b)\\nprint(a)</td>\n",
       "      <td>{1, 2, 3, 4, 5, 6}</td>\n",
       "    </tr>\n",
       "    <tr>\n",
       "      <th>5</th>\n",
       "      <td>Add Sets</td>\n",
       "      <td>set.union(set2)</td>\n",
       "      <td>a ={1,2,3}\\nb ={4,5,6}\\nc = a.union(b)\\nprint(c)</td>\n",
       "      <td>{1, 2, 3, 4, 5, 6}</td>\n",
       "    </tr>\n",
       "    <tr>\n",
       "      <th>6</th>\n",
       "      <td>remove value</td>\n",
       "      <td>set.remove(value)</td>\n",
       "      <td>a={1,2,3}\\na.remove(2)\\nprint(a)</td>\n",
       "      <td>{1, 3}</td>\n",
       "    </tr>\n",
       "    <tr>\n",
       "      <th>7</th>\n",
       "      <td>remove value</td>\n",
       "      <td>set.discard(value)</td>\n",
       "      <td>a={1,2,3}\\na.discard(2)\\nprint(a)</td>\n",
       "      <td>{1, 3}</td>\n",
       "    </tr>\n",
       "    <tr>\n",
       "      <th>8</th>\n",
       "      <td>remove value randomly</td>\n",
       "      <td>set.pop()</td>\n",
       "      <td>a={1,2,3}\\na.pop()\\nprint(a)</td>\n",
       "      <td>{2, 3}</td>\n",
       "    </tr>\n",
       "    <tr>\n",
       "      <th>9</th>\n",
       "      <td>remove all</td>\n",
       "      <td>set.clear()</td>\n",
       "      <td>a={1,2,3}\\na.clear()\\nprint(a)</td>\n",
       "      <td>set()</td>\n",
       "    </tr>\n",
       "    <tr>\n",
       "      <th>10</th>\n",
       "      <td>delete set</td>\n",
       "      <td>del set</td>\n",
       "      <td>a={1,2,3}\\ndel a\\nprint(a)</td>\n",
       "      <td>NameError: name 'a' is not defined</td>\n",
       "    </tr>\n",
       "    <tr>\n",
       "      <th>11</th>\n",
       "      <td>keep only the dupicates</td>\n",
       "      <td>set.intersection_update(set2)</td>\n",
       "      <td>a={1,2,3}\\nb={4,5,1}\\na.intersection_update(b)...</td>\n",
       "      <td>{1}</td>\n",
       "    </tr>\n",
       "    <tr>\n",
       "      <th>12</th>\n",
       "      <td>keep only the dupicates</td>\n",
       "      <td>set.intersection_update(set2)</td>\n",
       "      <td>a={1,2,3}\\nb={4,5,1}\\nc = a.intersection(b)\\np...</td>\n",
       "      <td>{1}</td>\n",
       "    </tr>\n",
       "    <tr>\n",
       "      <th>13</th>\n",
       "      <td>Keep All, But NOT the Duplicates</td>\n",
       "      <td>set.intersection_update(set2)</td>\n",
       "      <td>a={1,2,3}\\nb={1,4,5}\\na.symmetric_difference_u...</td>\n",
       "      <td>{2, 3, 4, 5}</td>\n",
       "    </tr>\n",
       "    <tr>\n",
       "      <th>14</th>\n",
       "      <td>Keep All, But NOT the Duplicates</td>\n",
       "      <td>set.symmetric_difference_update(set2)</td>\n",
       "      <td>a={1,2,3}\\nb={1,4,5}\\nc = a.symmetric_differen...</td>\n",
       "      <td>{2, 3, 4, 5}</td>\n",
       "    </tr>\n",
       "    <tr>\n",
       "      <th>15</th>\n",
       "      <td>Keep All, But NOT the Duplicates</td>\n",
       "      <td>set.symmetric_difference_update(set2)</td>\n",
       "      <td>x = {\"apple\", \"banana\", \"cherry\", True}\\ny = {...</td>\n",
       "      <td>{2, 'cherry', 'banana', 'google'}</td>\n",
       "    </tr>\n",
       "  </tbody>\n",
       "</table>\n",
       "</div>"
      ],
      "text/plain": [
       "                            Category                               function  \\\n",
       "0                            convert                                  set()   \n",
       "1                               Show                               for loop   \n",
       "2                         Membership                                     in   \n",
       "3                           Add Sets                         set.add(value)   \n",
       "4                           Add Sets                       set.update(set2)   \n",
       "5                           Add Sets                        set.union(set2)   \n",
       "6                       remove value                      set.remove(value)   \n",
       "7                       remove value                     set.discard(value)   \n",
       "8              remove value randomly                              set.pop()   \n",
       "9                         remove all                            set.clear()   \n",
       "10                        delete set                                del set   \n",
       "11           keep only the dupicates          set.intersection_update(set2)   \n",
       "12           keep only the dupicates          set.intersection_update(set2)   \n",
       "13  Keep All, But NOT the Duplicates          set.intersection_update(set2)   \n",
       "14  Keep All, But NOT the Duplicates  set.symmetric_difference_update(set2)   \n",
       "15  Keep All, But NOT the Duplicates  set.symmetric_difference_update(set2)   \n",
       "\n",
       "                                                   In  \\\n",
       "0   a = [1,2,3,3]\\nb = (1,2,3,4)\\nc = {\"car\":\"Toyo...   \n",
       "1              a = {1,2,3}\\nfor i in a:\\n    print(i)   \n",
       "2                          a = {1,2,3}\\nprint(2 in a)   \n",
       "3                      a ={1,2,3}\\na.add(4)\\nprint(a)   \n",
       "4        a ={1,2,3}\\nb={4,5,6}\\na.update(b)\\nprint(a)   \n",
       "5    a ={1,2,3}\\nb ={4,5,6}\\nc = a.union(b)\\nprint(c)   \n",
       "6                    a={1,2,3}\\na.remove(2)\\nprint(a)   \n",
       "7                   a={1,2,3}\\na.discard(2)\\nprint(a)   \n",
       "8                        a={1,2,3}\\na.pop()\\nprint(a)   \n",
       "9                      a={1,2,3}\\na.clear()\\nprint(a)   \n",
       "10                         a={1,2,3}\\ndel a\\nprint(a)   \n",
       "11  a={1,2,3}\\nb={4,5,1}\\na.intersection_update(b)...   \n",
       "12  a={1,2,3}\\nb={4,5,1}\\nc = a.intersection(b)\\np...   \n",
       "13  a={1,2,3}\\nb={1,4,5}\\na.symmetric_difference_u...   \n",
       "14  a={1,2,3}\\nb={1,4,5}\\nc = a.symmetric_differen...   \n",
       "15  x = {\"apple\", \"banana\", \"cherry\", True}\\ny = {...   \n",
       "\n",
       "                                        Out  \n",
       "0   {1, 2, 3} {1, 2, 3, 4} {'model', 'car'}  \n",
       "1                                   1\\n2\\n3  \n",
       "2                                      True  \n",
       "3                              {1, 2, 3, 4}  \n",
       "4                        {1, 2, 3, 4, 5, 6}  \n",
       "5                        {1, 2, 3, 4, 5, 6}  \n",
       "6                                    {1, 3}  \n",
       "7                                    {1, 3}  \n",
       "8                                    {2, 3}  \n",
       "9                                     set()  \n",
       "10       NameError: name 'a' is not defined  \n",
       "11                                      {1}  \n",
       "12                                      {1}  \n",
       "13                             {2, 3, 4, 5}  \n",
       "14                             {2, 3, 4, 5}  \n",
       "15        {2, 'cherry', 'banana', 'google'}  "
      ]
     },
     "execution_count": 1,
     "metadata": {},
     "output_type": "execute_result"
    }
   ],
   "source": [
    "import pandas as pd\n",
    "pd.set_option('display.max_rows', 100)\n",
    "df = pd.read_excel(\"table\\Set for Python.xlsx\",dtype=str)\n",
    "df.head(None)"
   ]
  },
  {
   "cell_type": "code",
   "execution_count": 2,
   "metadata": {},
   "outputs": [
    {
     "name": "stdout",
     "output_type": "stream",
     "text": [
      "{'apple', 'banana', 'cherry'}\n"
     ]
    }
   ],
   "source": [
    "myset = {\"apple\", \"banana\", \"cherry\"}\n",
    "print(myset)"
   ]
  },
  {
   "cell_type": "markdown",
   "metadata": {},
   "source": [
    "### Does't allow duplicate"
   ]
  },
  {
   "cell_type": "code",
   "execution_count": 3,
   "metadata": {},
   "outputs": [
    {
     "name": "stdout",
     "output_type": "stream",
     "text": [
      "{'apple', 'banana', 'cherry'}\n"
     ]
    }
   ],
   "source": [
    "thisset = {\"apple\", \"banana\", \"cherry\", \"apple\"}\n",
    "print(thisset)"
   ]
  },
  {
   "cell_type": "markdown",
   "metadata": {},
   "source": [
    "## convert"
   ]
  },
  {
   "cell_type": "code",
   "execution_count": 4,
   "metadata": {},
   "outputs": [
    {
     "name": "stdout",
     "output_type": "stream",
     "text": [
      "{1, 2, 3} {1, 2, 3, 4} {'model', 'car'}\n"
     ]
    }
   ],
   "source": [
    "a = [1,2,3,3]\n",
    "b = (1,2,3,4)\n",
    "c = {\"car\":\"Toyota\",\"model\":\"VOXY\"}\n",
    "\n",
    "a = set(a)\n",
    "b = set(b)\n",
    "c = set(c)\n",
    "print(a,b,c)"
   ]
  },
  {
   "cell_type": "markdown",
   "metadata": {},
   "source": [
    "## Show"
   ]
  },
  {
   "cell_type": "code",
   "execution_count": 5,
   "metadata": {},
   "outputs": [
    {
     "name": "stdout",
     "output_type": "stream",
     "text": [
      "1\n",
      "2\n",
      "3\n"
     ]
    }
   ],
   "source": [
    "a = {1,2,3}\n",
    "for i in a:\n",
    "    print(i)"
   ]
  },
  {
   "cell_type": "markdown",
   "metadata": {},
   "source": [
    "## Membership"
   ]
  },
  {
   "cell_type": "code",
   "execution_count": 6,
   "metadata": {},
   "outputs": [
    {
     "name": "stdout",
     "output_type": "stream",
     "text": [
      "True\n"
     ]
    }
   ],
   "source": [
    "a = {1,2,3}\n",
    "print(2 in a)"
   ]
  },
  {
   "cell_type": "markdown",
   "metadata": {},
   "source": [
    "## Add Sets"
   ]
  },
  {
   "cell_type": "code",
   "execution_count": 7,
   "metadata": {},
   "outputs": [
    {
     "name": "stdout",
     "output_type": "stream",
     "text": [
      "{1, 2, 3, 4}\n"
     ]
    }
   ],
   "source": [
    "a ={1,2,3}\n",
    "a.add(4)\n",
    "print(a)"
   ]
  },
  {
   "cell_type": "code",
   "execution_count": 8,
   "metadata": {},
   "outputs": [
    {
     "name": "stdout",
     "output_type": "stream",
     "text": [
      "{1, 2, 3, 4, 5, 6}\n"
     ]
    }
   ],
   "source": [
    "a ={1,2,3}\n",
    "b={4,5,6}\n",
    "a.update(b)\n",
    "print(a)"
   ]
  },
  {
   "cell_type": "markdown",
   "metadata": {},
   "source": [
    "you can add any any iterable object."
   ]
  },
  {
   "cell_type": "code",
   "execution_count": 9,
   "metadata": {},
   "outputs": [
    {
     "name": "stdout",
     "output_type": "stream",
     "text": [
      "{1, 2, 3, 4, 5, 6}\n"
     ]
    }
   ],
   "source": [
    "a ={1,2,3}\n",
    "b=[4,5,6]\n",
    "a.update(b)\n",
    "print(a)"
   ]
  },
  {
   "cell_type": "markdown",
   "metadata": {},
   "source": [
    "The union() method returns a **new** set with all items from both sets:"
   ]
  },
  {
   "cell_type": "code",
   "execution_count": 10,
   "metadata": {},
   "outputs": [
    {
     "name": "stdout",
     "output_type": "stream",
     "text": [
      "{1, 2, 3, 4, 5, 6}\n"
     ]
    }
   ],
   "source": [
    "a ={1,2,3}\n",
    "b ={4,5,6}\n",
    "c = a.union(b)\n",
    "print(c)\n"
   ]
  },
  {
   "cell_type": "code",
   "execution_count": 11,
   "metadata": {},
   "outputs": [
    {
     "name": "stdout",
     "output_type": "stream",
     "text": [
      "{1, 2, 3}\n"
     ]
    }
   ],
   "source": [
    "a ={1,2,3}\n",
    "b ={4,5,6}\n",
    "a.union(b)\n",
    "print(a)"
   ]
  },
  {
   "cell_type": "markdown",
   "metadata": {},
   "source": [
    "## Remove\n",
    "If the item to remove does not exist, remove() will raise an error.\n",
    "\n",
    "If the item to remove does not exist, discard() will NOT raise an error."
   ]
  },
  {
   "cell_type": "code",
   "execution_count": 12,
   "metadata": {},
   "outputs": [
    {
     "name": "stdout",
     "output_type": "stream",
     "text": [
      "{1, 3}\n"
     ]
    }
   ],
   "source": [
    "a={1,2,3}\n",
    "a.remove(2)\n",
    "print(a)"
   ]
  },
  {
   "cell_type": "code",
   "execution_count": 13,
   "metadata": {},
   "outputs": [
    {
     "name": "stdout",
     "output_type": "stream",
     "text": [
      "{1, 3}\n"
     ]
    }
   ],
   "source": [
    "a={1,2,3}\n",
    "a.discard(2)\n",
    "print(a)"
   ]
  },
  {
   "cell_type": "markdown",
   "metadata": {},
   "source": [
    "Remove a random item by using the pop() method:\n",
    "\n",
    "Sets are unordered, so when using the pop() method, you do not know which item that gets removed."
   ]
  },
  {
   "cell_type": "code",
   "execution_count": 14,
   "metadata": {},
   "outputs": [
    {
     "name": "stdout",
     "output_type": "stream",
     "text": [
      "{2, 3}\n"
     ]
    }
   ],
   "source": [
    "a={1,2,3}\n",
    "a.pop()\n",
    "print(a)"
   ]
  },
  {
   "cell_type": "markdown",
   "metadata": {},
   "source": [
    "The clear() method empties the set:"
   ]
  },
  {
   "cell_type": "code",
   "execution_count": 15,
   "metadata": {},
   "outputs": [
    {
     "name": "stdout",
     "output_type": "stream",
     "text": [
      "set()\n"
     ]
    }
   ],
   "source": [
    "a={1,2,3}\n",
    "a.clear()\n",
    "print(a)"
   ]
  },
  {
   "cell_type": "markdown",
   "metadata": {},
   "source": [
    "The del keyword will delete the set completely:\n",
    "\n",
    "That is why valuable a is not defined"
   ]
  },
  {
   "cell_type": "code",
   "execution_count": 16,
   "metadata": {},
   "outputs": [
    {
     "ename": "NameError",
     "evalue": "name 'a' is not defined",
     "output_type": "error",
     "traceback": [
      "\u001b[1;31m---------------------------------------------------------------------------\u001b[0m",
      "\u001b[1;31mNameError\u001b[0m                                 Traceback (most recent call last)",
      "Cell \u001b[1;32mIn[16], line 3\u001b[0m\n\u001b[0;32m      1\u001b[0m a\u001b[39m=\u001b[39m{\u001b[39m1\u001b[39m,\u001b[39m2\u001b[39m,\u001b[39m3\u001b[39m}\n\u001b[0;32m      2\u001b[0m \u001b[39mdel\u001b[39;00m a\n\u001b[1;32m----> 3\u001b[0m \u001b[39mprint\u001b[39m(a)\n",
      "\u001b[1;31mNameError\u001b[0m: name 'a' is not defined"
     ]
    }
   ],
   "source": [
    "a={1,2,3}\n",
    "del a\n",
    "print(a)"
   ]
  },
  {
   "cell_type": "markdown",
   "metadata": {},
   "source": [
    "## Keep ONLY the Duplicates"
   ]
  },
  {
   "cell_type": "code",
   "execution_count": null,
   "metadata": {},
   "outputs": [
    {
     "name": "stdout",
     "output_type": "stream",
     "text": [
      "{1}\n"
     ]
    }
   ],
   "source": [
    "a={1,2,3}\n",
    "b={4,5,1}\n",
    "a.intersection_update(b)\n",
    "print(a)"
   ]
  },
  {
   "cell_type": "markdown",
   "metadata": {},
   "source": [
    "The intersection() method will return a **new** set, that only contains the items that are present in both sets."
   ]
  },
  {
   "cell_type": "code",
   "execution_count": null,
   "metadata": {},
   "outputs": [
    {
     "name": "stdout",
     "output_type": "stream",
     "text": [
      "{1}\n"
     ]
    }
   ],
   "source": [
    "a={1,2,3}\n",
    "b={4,5,1}\n",
    "c = a.intersection(b)\n",
    "print(c)"
   ]
  },
  {
   "cell_type": "markdown",
   "metadata": {},
   "source": [
    "## Keep All, But NOT the Duplicates\n",
    "The symmetric_difference_update() method will keep only the elements that are NOT present in both sets.\n",
    "\n",
    "Note: The values True and 1 are considered the same value in sets, and are treated as duplicates:"
   ]
  },
  {
   "cell_type": "code",
   "execution_count": null,
   "metadata": {},
   "outputs": [
    {
     "name": "stdout",
     "output_type": "stream",
     "text": [
      "{2, 3, 4, 5}\n"
     ]
    }
   ],
   "source": [
    "a={1,2,3}\n",
    "b={1,4,5}\n",
    "a.symmetric_difference_update(b)\n",
    "print(a)"
   ]
  },
  {
   "cell_type": "markdown",
   "metadata": {},
   "source": [
    "The symmetric_difference() method will return a **new** set, that contains only the elements that are NOT present in both sets."
   ]
  },
  {
   "cell_type": "code",
   "execution_count": null,
   "metadata": {},
   "outputs": [
    {
     "name": "stdout",
     "output_type": "stream",
     "text": [
      "{2, 3, 4, 5}\n"
     ]
    }
   ],
   "source": [
    "a={1,2,3}\n",
    "b={1,4,5}\n",
    "c = a.symmetric_difference(b)\n",
    "print(c)"
   ]
  },
  {
   "cell_type": "code",
   "execution_count": null,
   "metadata": {},
   "outputs": [
    {
     "name": "stdout",
     "output_type": "stream",
     "text": [
      "{2, 'cherry', 'banana', 'google'}\n"
     ]
    }
   ],
   "source": [
    "x = {\"apple\", \"banana\", \"cherry\", True}\n",
    "y = {\"google\", 1, \"apple\", 2}\n",
    "\n",
    "z = x.symmetric_difference(y)\n",
    "print(z)"
   ]
  }
 ],
 "metadata": {
  "kernelspec": {
   "display_name": "Python 3",
   "language": "python",
   "name": "python3"
  },
  "language_info": {
   "codemirror_mode": {
    "name": "ipython",
    "version": 3
   },
   "file_extension": ".py",
   "mimetype": "text/x-python",
   "name": "python",
   "nbconvert_exporter": "python",
   "pygments_lexer": "ipython3",
   "version": "3.10.6"
  },
  "orig_nbformat": 4
 },
 "nbformat": 4,
 "nbformat_minor": 2
}
